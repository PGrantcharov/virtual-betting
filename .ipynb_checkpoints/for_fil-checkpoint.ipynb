{
 "cells": [
  {
   "cell_type": "code",
   "execution_count": 35,
   "metadata": {},
   "outputs": [],
   "source": [
    "import pandas as pd\n",
    "from selenium import webdriver\n",
    "from selenium.webdriver.chrome.options import Options\n",
    "from selenium.common.exceptions import NoSuchElementException\n",
    "import time"
   ]
  },
  {
   "cell_type": "code",
   "execution_count": 2,
   "metadata": {},
   "outputs": [],
   "source": [
    "base_url = 'https://www.basketball-reference.com/players/'"
   ]
  },
  {
   "cell_type": "code",
   "execution_count": 3,
   "metadata": {},
   "outputs": [],
   "source": [
    "df = pd.read_csv('Data/bask_ref_csvs/player_Jan2019.csv', header=0, index_col='Index')"
   ]
  },
  {
   "cell_type": "code",
   "execution_count": 67,
   "metadata": {},
   "outputs": [],
   "source": [
    "def get_code(name):\n",
    "    if name == 'Tim Hardaway':\n",
    "        return 'h/hardati02.html'\n",
    "    if name == 'Frank Ntilikina':\n",
    "        return 'n/ntilila01.html'\n",
    "    first, last = name.split(' ')[0].replace('.', ''), name.split(' ')[1]\n",
    "    pre = last[0] + '/'\n",
    "    mid = last[:5] if len(last[:5]) >= 5 else last\n",
    "    code = pre + mid + first[:2]\n",
    "    return code.lower() + '01.html'"
   ]
  },
  {
   "cell_type": "code",
   "execution_count": 73,
   "metadata": {},
   "outputs": [],
   "source": [
    "options = Options()\n",
    "#options.add_argument(\"--headless\")\n",
    "options.add_extension('Misc/Adblock-Plus_v3.4.2.crx')\n",
    "driver = webdriver.Chrome('Misc/chromedriver', options=options)"
   ]
  },
  {
   "cell_type": "code",
   "execution_count": 74,
   "metadata": {},
   "outputs": [
    {
     "name": "stdout",
     "output_type": "stream",
     "text": [
      "Did Kevin Knox\n",
      "Did Tim Hardaway\n",
      "Did Noah Vonleh\n",
      "Did Emmanuel Mudiay\n",
      "Did Luke Kornet\n",
      "fail 1\n",
      "Did Enes Kanter\n",
      "Did Allonzo Trier\n",
      "Did Frank Ntilikina\n",
      "Did Damyean Dotson\n",
      "Did Courtney Lee\n",
      "Did Mario Hezonja\n",
      "Did Trey Burke\n",
      "Did Lance Thomas\n",
      "Did Nikola Jokic\n",
      "Did Jamal Murray\n",
      "Did Torrey Craig\n",
      "Did Mason Plumlee\n",
      "Did Juan Hernangomez\n",
      "Did Malik Beasley\n",
      "Did Monte Morris\n",
      "Did Paul Millsap\n",
      "Did Gary Harris\n",
      "Did Trey Lyles\n",
      "fail 1\n",
      "Did Brandon Goodwin\n",
      "Did Tyler Lydon\n",
      "Did Joel Embiid\n",
      "Did J.J. Redick\n",
      "Did Ben Simmons\n",
      "Did Jimmy Butler\n",
      "Did Wilson Chandler\n",
      "Did T.J. McConnell\n",
      "Did Jonah Bolden\n",
      "Did Landry Shamet\n",
      "Did Mike Muscala\n",
      "Did Furkan Korkmaz\n",
      "Did Demetrius Jackson\n",
      "Did Amir Johnson\n",
      "Did Danilo Gallinari\n",
      "Did Avery Bradley\n",
      "Did Marcin Gortat\n",
      "Did Shai Gilgeous-Alexander\n",
      "Did Patrick Beverley\n",
      "Did Montrezl Harrell\n",
      "Did Mike Scott\n",
      "Did Tyrone Wallace\n",
      "Did Boban Marjanovic\n",
      "Did Sindarius Thornwell\n",
      "Did Milos Teodosic\n",
      "Did Blake Griffin\n",
      "Did Andre Drummond\n",
      "Did Bruce Brown\n",
      "Did Reggie Bullock\n",
      "Did Reggie Jackson\n",
      "Did Jon Leuer\n",
      "Did Luke Kennard\n",
      "Did Khyri Thomas\n",
      "Did Jose Calderon\n",
      "Did Langston Galloway\n",
      "fail 1\n",
      "fail 2\n",
      "Did Zaza Pachulia\n",
      "Did Brook Lopez\n",
      "Did Eric Bledsoe\n",
      "Did Khris Middleton\n",
      "Did Giannis Antetokounmpo\n",
      "Did Malcolm Brogdon\n",
      "Did George Hill\n",
      "Did Tony Snell\n",
      "Did Thon Maker\n",
      "Did D.J. Wilson\n",
      "Did Pat Connaughton\n"
     ]
    },
    {
     "ename": "IndexError",
     "evalue": "list index out of range",
     "output_type": "error",
     "traceback": [
      "\u001b[0;31m---------------------------------------------------------------------------\u001b[0m",
      "\u001b[0;31mIndexError\u001b[0m                                Traceback (most recent call last)",
      "\u001b[0;32m<ipython-input-74-40fe52e2d492>\u001b[0m in \u001b[0;36m<module>\u001b[0;34m\u001b[0m\n\u001b[1;32m     10\u001b[0m             \u001b[0;32mtry\u001b[0m\u001b[0;34m:\u001b[0m\u001b[0;34m\u001b[0m\u001b[0;34m\u001b[0m\u001b[0m\n\u001b[0;32m---> 11\u001b[0;31m                 \u001b[0mpos\u001b[0m \u001b[0;34m=\u001b[0m \u001b[0mdriver\u001b[0m\u001b[0;34m.\u001b[0m\u001b[0mfind_element_by_xpath\u001b[0m\u001b[0;34m(\u001b[0m\u001b[0;34m'//*[@id=\"meta\"]/div[2]/p[2]'\u001b[0m\u001b[0;34m)\u001b[0m\u001b[0;34m.\u001b[0m\u001b[0mtext\u001b[0m\u001b[0;34m.\u001b[0m\u001b[0msplit\u001b[0m\u001b[0;34m(\u001b[0m\u001b[0;34m': '\u001b[0m\u001b[0;34m)\u001b[0m\u001b[0;34m[\u001b[0m\u001b[0;36m1\u001b[0m\u001b[0;34m]\u001b[0m\u001b[0;34m.\u001b[0m\u001b[0msplit\u001b[0m\u001b[0;34m(\u001b[0m\u001b[0;34m' ▪'\u001b[0m\u001b[0;34m)\u001b[0m\u001b[0;34m[\u001b[0m\u001b[0;36m0\u001b[0m\u001b[0;34m]\u001b[0m\u001b[0;34m\u001b[0m\u001b[0;34m\u001b[0m\u001b[0m\n\u001b[0m\u001b[1;32m     12\u001b[0m             \u001b[0;32mexcept\u001b[0m \u001b[0mIndexError\u001b[0m\u001b[0;34m:\u001b[0m\u001b[0;34m\u001b[0m\u001b[0;34m\u001b[0m\u001b[0m\n",
      "\u001b[0;31mIndexError\u001b[0m: list index out of range",
      "\nDuring handling of the above exception, another exception occurred:\n",
      "\u001b[0;31mIndexError\u001b[0m                                Traceback (most recent call last)",
      "\u001b[0;32m<ipython-input-74-40fe52e2d492>\u001b[0m in \u001b[0;36m<module>\u001b[0;34m\u001b[0m\n\u001b[1;32m     11\u001b[0m                 \u001b[0mpos\u001b[0m \u001b[0;34m=\u001b[0m \u001b[0mdriver\u001b[0m\u001b[0;34m.\u001b[0m\u001b[0mfind_element_by_xpath\u001b[0m\u001b[0;34m(\u001b[0m\u001b[0;34m'//*[@id=\"meta\"]/div[2]/p[2]'\u001b[0m\u001b[0;34m)\u001b[0m\u001b[0;34m.\u001b[0m\u001b[0mtext\u001b[0m\u001b[0;34m.\u001b[0m\u001b[0msplit\u001b[0m\u001b[0;34m(\u001b[0m\u001b[0;34m': '\u001b[0m\u001b[0;34m)\u001b[0m\u001b[0;34m[\u001b[0m\u001b[0;36m1\u001b[0m\u001b[0;34m]\u001b[0m\u001b[0;34m.\u001b[0m\u001b[0msplit\u001b[0m\u001b[0;34m(\u001b[0m\u001b[0;34m' ▪'\u001b[0m\u001b[0;34m)\u001b[0m\u001b[0;34m[\u001b[0m\u001b[0;36m0\u001b[0m\u001b[0;34m]\u001b[0m\u001b[0;34m\u001b[0m\u001b[0;34m\u001b[0m\u001b[0m\n\u001b[1;32m     12\u001b[0m             \u001b[0;32mexcept\u001b[0m \u001b[0mIndexError\u001b[0m\u001b[0;34m:\u001b[0m\u001b[0;34m\u001b[0m\u001b[0;34m\u001b[0m\u001b[0m\n\u001b[0;32m---> 13\u001b[0;31m                 \u001b[0mpos\u001b[0m \u001b[0;34m=\u001b[0m \u001b[0mdriver\u001b[0m\u001b[0;34m.\u001b[0m\u001b[0mfind_element_by_xpath\u001b[0m\u001b[0;34m(\u001b[0m\u001b[0;34m'//*[@id=\"meta\"]/div[2]/p[3]'\u001b[0m\u001b[0;34m)\u001b[0m\u001b[0;34m.\u001b[0m\u001b[0mtext\u001b[0m\u001b[0;34m.\u001b[0m\u001b[0msplit\u001b[0m\u001b[0;34m(\u001b[0m\u001b[0;34m': '\u001b[0m\u001b[0;34m)\u001b[0m\u001b[0;34m[\u001b[0m\u001b[0;36m1\u001b[0m\u001b[0;34m]\u001b[0m\u001b[0;34m.\u001b[0m\u001b[0msplit\u001b[0m\u001b[0;34m(\u001b[0m\u001b[0;34m' ▪'\u001b[0m\u001b[0;34m)\u001b[0m\u001b[0;34m[\u001b[0m\u001b[0;36m0\u001b[0m\u001b[0;34m]\u001b[0m\u001b[0;34m\u001b[0m\u001b[0;34m\u001b[0m\u001b[0m\n\u001b[0m\u001b[1;32m     14\u001b[0m         \u001b[0;32mexcept\u001b[0m \u001b[0mNoSuchElementException\u001b[0m\u001b[0;34m:\u001b[0m\u001b[0;34m\u001b[0m\u001b[0;34m\u001b[0m\u001b[0m\n\u001b[1;32m     15\u001b[0m             \u001b[0;32mtry\u001b[0m\u001b[0;34m:\u001b[0m\u001b[0;34m\u001b[0m\u001b[0;34m\u001b[0m\u001b[0m\n",
      "\u001b[0;31mIndexError\u001b[0m: list index out of range"
     ]
    }
   ],
   "source": [
    "output = pd.DataFrame(columns=['name', 'pos', 'salary', 'szn_per', 'car_per', 'szn_ws', 'car_ws'])\n",
    "\n",
    "players = df.name.unique()\n",
    "\n",
    "for name in players:\n",
    "    try:\n",
    "        code = get_code(name)\n",
    "        driver.get(base_url + code)\n",
    "        try:\n",
    "            try:\n",
    "                try:\n",
    "                    pos = driver.find_element_by_xpath('//*[@id=\"meta\"]/div[2]/p[2]').text.split(': ')[1].split(' ▪')[0]\n",
    "                except IndexError:\n",
    "                    pos = driver.find_element_by_xpath('//*[@id=\"meta\"]/div[2]/p[3]').text.split(': ')[1].split(' ▪')[0]\n",
    "            except NoSuchElementException:\n",
    "                try:\n",
    "                    pos = driver.find_element_by_xpath('//*[@id=\"meta\"]/div[2]/p[2]').text.split(': ')[1].split(' ▪')[0]\n",
    "                except IndexError:\n",
    "                    pos = driver.find_element_by_xpath('//*[@id=\"meta\"]/div[2]/p[3]').text.split(': ')[1].split(' ▪')[0]\n",
    "        except NoSuchElementException:\n",
    "            continue\n",
    "        t = driver.find_elements_by_class_name(\"suppress_all\")\n",
    "        i = -1\n",
    "        while abs(i) <= len(t):\n",
    "            try:\n",
    "                salary = int(t[i].text.split('$')[1].replace(',', ''))\n",
    "                i = float('inf')\n",
    "            except IndexError:\n",
    "                print('fail {}'.format(i * -1))\n",
    "                i = i - 1\n",
    "\n",
    "        try:\n",
    "            szn_per = float(driver.find_element_by_xpath('//*[@id=\"info\"]/div[4]/div[4]/div[1]/p[1]').text)\n",
    "        except ValueError:\n",
    "            continue\n",
    "        car_per = float(driver.find_element_by_xpath('//*[@id=\"info\"]/div[4]/div[4]/div[1]/p[2]').text)\n",
    "        szn_ws = float(driver.find_element_by_xpath('//*[@id=\"info\"]/div[4]/div[4]/div[2]/p[1]').text)\n",
    "        car_ws = float(driver.find_element_by_xpath('//*[@id=\"info\"]/div[4]/div[4]/div[2]/p[2]').text)\n",
    "        output.loc[len(output)] = [name, pos, salary, szn_per, car_per, szn_ws, car_ws]\n",
    "\n",
    "        print('Did {}'.format(name))\n",
    "    except Exception as e:\n",
    "        continue\n",
    "driver.quit()\n",
    "\n"
   ]
  },
  {
   "cell_type": "code",
   "execution_count": 72,
   "metadata": {},
   "outputs": [],
   "source": [
    "driver.quit()"
   ]
  },
  {
   "cell_type": "code",
   "execution_count": 71,
   "metadata": {},
   "outputs": [
    {
     "data": {
      "text/plain": [
       "'Glenn Robinson'"
      ]
     },
     "execution_count": 71,
     "metadata": {},
     "output_type": "execute_result"
    }
   ],
   "source": [
    "name\n"
   ]
  },
  {
   "cell_type": "code",
   "execution_count": 8,
   "metadata": {},
   "outputs": [
    {
     "data": {
      "text/plain": [
       "'Team 2018-19 2019-20 2020-21 2021-22\\nNew York Knicks $3,739,920 $4,380,120 $4,588,680 $5,845,978'"
      ]
     },
     "execution_count": 8,
     "metadata": {},
     "output_type": "execute_result"
    }
   ],
   "source": [
    "driver.find_elements_by_class_name(\"suppress_all\")[-1].text"
   ]
  },
  {
   "cell_type": "code",
   "execution_count": 116,
   "metadata": {},
   "outputs": [
    {
     "data": {
      "text/plain": [
       "17325000"
      ]
     },
     "execution_count": 116,
     "metadata": {},
     "output_type": "execute_result"
    }
   ],
   "source": [
    "int(driver.find_elements_by_class_name(\"suppress_all\")[2].text.split('$')[1].replace(',', ''))"
   ]
  },
  {
   "cell_type": "code",
   "execution_count": 114,
   "metadata": {},
   "outputs": [
    {
     "data": {
      "text/plain": [
       "'Team 2018-19 2019-20 2020-21\\nDallas Mavericks $17,325,000 $18,150,000 $18,975,000'"
      ]
     },
     "execution_count": 114,
     "metadata": {},
     "output_type": "execute_result"
    }
   ],
   "source": [
    "t[2].text"
   ]
  },
  {
   "cell_type": "code",
   "execution_count": 196,
   "metadata": {},
   "outputs": [
    {
     "data": {
      "text/plain": [
       "'Kevin Knox'"
      ]
     },
     "execution_count": 196,
     "metadata": {},
     "output_type": "execute_result"
    }
   ],
   "source": [
    "name"
   ]
  },
  {
   "cell_type": "code",
   "execution_count": null,
   "metadata": {},
   "outputs": [],
   "source": []
  }
 ],
 "metadata": {
  "kernelspec": {
   "display_name": "progs",
   "language": "python",
   "name": "progs"
  },
  "language_info": {
   "codemirror_mode": {
    "name": "ipython",
    "version": 3
   },
   "file_extension": ".py",
   "mimetype": "text/x-python",
   "name": "python",
   "nbconvert_exporter": "python",
   "pygments_lexer": "ipython3",
   "version": "3.7.2"
  }
 },
 "nbformat": 4,
 "nbformat_minor": 2
}
